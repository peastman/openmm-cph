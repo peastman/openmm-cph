{
 "cells": [
  {
   "cell_type": "markdown",
   "id": "ff9ba261-8e4d-4550-b25c-730ae3ca2c4f",
   "metadata": {},
   "source": [
    "# Constant pH Simulations in OpenMM\n",
    "\n",
    "In this tutorial we will run a constant pH simulation of a protein at pH 7.5.  Two amino acids have pKas in this range: CYS (pKa 8.33) and HIS (two titratable hydrogens with pKa 6.5 and 7.1 respectively).  We therefore treat all CYS and HIS sidechains in the protein as variable groups.\n",
    "\n",
    "We begin by importing all the packages we will need."
   ]
  },
  {
   "cell_type": "code",
   "execution_count": 1,
   "id": "60133b88-1f02-456f-9f8a-987ecbc888a6",
   "metadata": {},
   "outputs": [],
   "source": [
    "from openmm import *\n",
    "from openmm.app import *\n",
    "from openmm.unit import *\n",
    "from constantph import ConstantPH\n",
    "from reference_energy import ReferenceEnergyFinder"
   ]
  },
  {
   "cell_type": "markdown",
   "id": "9c654838-0899-4f81-a3e7-e9a67e5754c4",
   "metadata": {},
   "source": [
    "The first step is to define the force field and parameters for our simulation.  In fact, we need to define two different force fields: an explicit solvent force field to use for running the simulation, and an implicit solvent force field to use when deciding whether to change the protonation states of residues.  For this tutorial we will use the Amber ff14 force field and the GBn2 implicit solvent model.  We create the ForceField objects and define the parameters to be passed to `createSystem()`."
   ]
  },
  {
   "cell_type": "code",
   "execution_count": 2,
   "id": "4ed74a0e-b90d-4f6f-916d-68037f944085",
   "metadata": {},
   "outputs": [],
   "source": [
    "explicit_ff = ForceField('amber14-all.xml', 'amber14/tip3pfb.xml')\n",
    "implicit_ff = ForceField('amber14-all.xml', 'implicit/gbn2.xml')\n",
    "explicit_params = dict(nonbondedMethod=PME, nonbondedCutoff=0.9*nanometers, constraints=HBonds)\n",
    "implicit_params = dict(nonbondedMethod=CutoffNonPeriodic, nonbondedCutoff=2.0*nanometers, constraints=HBonds)"
   ]
  },
  {
   "cell_type": "markdown",
   "id": "2734d3e5-ea96-47e6-a0db-16013afa7b97",
   "metadata": {},
   "source": [
    "Next we define the integrator to use for running the simulation.  We also need to define a second integrator that will be used for relaxing solvent after an accepted Monte Carlo move.  The relaxation integrator uses a smaller time step (because there may be large forces at the start of relaxation) and a larger friction coefficient (to dissipate excess energy more quickly)."
   ]
  },
  {
   "cell_type": "code",
   "execution_count": 3,
   "id": "d794ba7d-b238-4e76-8f53-a7c6f069f9d8",
   "metadata": {},
   "outputs": [],
   "source": [
    "temperature = 300*kelvin\n",
    "integrator = LangevinIntegrator(temperature, 1.0/picosecond, 0.004*picoseconds)\n",
    "relaxation_integrator = LangevinIntegrator(temperature, 10.0/picosecond, 0.002*picosecond)"
   ]
  },
  {
   "cell_type": "markdown",
   "id": "6ebbd493-05a4-4654-8533-695bc8d95f0c",
   "metadata": {},
   "source": [
    "Before we can run the simulation, we need to determine reference energies for each of the relevant protonation states.  This involves simulating a model compound (in our case, a single capped amino acid in a box of water) at various pHs to identify what reference energy produces the correct pKa.  The reference energies are specific to the force field, solvation model, temperature, and other settings used in the simulation.  Any change to the settings requires recomputing them.\n",
    "\n",
    "The ReferenceEnergyFinder class makes this very easy, and model compounds are provided for all the variable amino acids.  Let's start by loading the CYS model and creating a ConstantPH object."
   ]
  },
  {
   "cell_type": "code",
   "execution_count": 4,
   "id": "1796306c-e9d2-4c99-8edf-be25bd9991e0",
   "metadata": {},
   "outputs": [],
   "source": [
    "pdb = PDBFile('model-compounds/CYS.pdb')\n",
    "variants = {1: ['CYS', 'CYX']}\n",
    "referenceEnergies = {1: [0.0, 0.0]}\n",
    "cph = ConstantPH(pdb.topology, pdb.positions, 7.0, explicit_ff, implicit_ff, variants, referenceEnergies, 250,\n",
    "                explicit_params, implicit_params, integrator, relaxation_integrator)"
   ]
  },
  {
   "cell_type": "markdown",
   "id": "6aadd1de-d18f-4630-b27a-69ab31dad6d1",
   "metadata": {},
   "source": [
    "Let's consider the arguments to the ConstantPH constructor.  The first two are the model to simulate (the Topology and initial positions).  Next is the pH to run the simulation at.  In this case it doesn't matter what value we pass, because the ReferenceEnergyFinder will overwrite it to run simulations at various pHs.  Next we have the ForceFields, followed by a description of residues whose states will vary.  `1: ['CYS', 'CYX']` means that residue 1 has two possible states: `'CYS'` and `'CYX'`.  These values are passed to `Modeller.addHydrogens()` to tell it what variants to build Topologies for.\n",
    "\n",
    "Next is the list of reference energies of the states.  It doesn't matter what values we specify at this point: ReferenceEnergyFinder will overwrite them with the correct values.\n",
    "\n",
    "The next argument is the number of relaxation steps to integrate after an accepted Monte Carlo move.  We specify 250 steps, which means to relax the solvent for 0.5 ps, since the relaxation integrator has a step size of 0.002 picoseconds.\n",
    "\n",
    "Finally we provide the parameters to pass to `createSystem()` and the integrators we created earlier.\n",
    "\n",
    "Now to determine the reference energies.  We create a ReferenceEnergyFinder object.  The arguments are the ConstantPH object we just created, the experimental pKa we want to match, and the temperature the simulation will be run at."
   ]
  },
  {
   "cell_type": "code",
   "execution_count": 5,
   "id": "89a11bd6-d6dc-4f78-9619-b7d88ac9622d",
   "metadata": {},
   "outputs": [],
   "source": [
    "finder = ReferenceEnergyFinder(cph, 8.33, temperature)"
   ]
  },
  {
   "cell_type": "markdown",
   "id": "5f9732dd-9688-4886-8938-a187d216aa15",
   "metadata": {},
   "source": [
    "We call `findReferenceEnergies()` to run simulations at a variety of pHs and determine the reference energies.  We tell it to run for 20,000 iterations (that is, attempted Monte Carlo moves), and to take 20 time steps between attempted moves (80 fs, since the integrator's step size is 4 fs).  These are the default values, so we could have omitted them.  They are shown here just so you know what options are available.\n",
    "\n",
    "On a good GPU, this should only take a few minutes to run.  You can increase the number of iterations to converge the energy more tightly."
   ]
  },
  {
   "cell_type": "code",
   "execution_count": 6,
   "id": "1df2382f-2f61-472a-9985-69944964ca5d",
   "metadata": {},
   "outputs": [
    {
     "name": "stdout",
     "output_type": "stream",
     "text": [
      "[0.0 kJ/mol, -331.9021734377429 kJ/mol]\n"
     ]
    }
   ],
   "source": [
    "finder.findReferenceEnergies(iterations=20000, substeps=20)\n",
    "cys_ref_energies = cph.titrations[1].referenceEnergies\n",
    "print(cys_ref_energies)"
   ]
  },
  {
   "cell_type": "markdown",
   "id": "a763b654-0621-4c64-b1ac-1a3ebd2d0521",
   "metadata": {},
   "source": [
    "Since the zero point of energy is arbitrary, it always assigns a reference energy of 0 to the first state.\n",
    "\n",
    "HIS is slightly more complicated: it has two titratable hydrogens, each with a different pKa.  We therefore run ReferenceEnergyFinder twice to compute the energies of the two deprotonated states (HID and HIE) relative to the fully protonated state (HIP).  First for HID:"
   ]
  },
  {
   "cell_type": "code",
   "execution_count": 7,
   "id": "1c0b36f9-7544-4823-b7ca-55ff9e58ba24",
   "metadata": {},
   "outputs": [
    {
     "name": "stdout",
     "output_type": "stream",
     "text": [
      "[0.0 kJ/mol, -15.70777104670718 kJ/mol]\n"
     ]
    }
   ],
   "source": [
    "pdb = PDBFile('model-compounds/HIS.pdb')\n",
    "variants = {1: ['HIP', 'HID']}\n",
    "referenceEnergies = {1: [0.0, 0.0]}\n",
    "cph = ConstantPH(pdb.topology, pdb.positions, 7.0, explicit_ff, implicit_ff, variants, referenceEnergies, 250,\n",
    "                explicit_params, implicit_params, integrator, relaxation_integrator)\n",
    "finder = ReferenceEnergyFinder(cph, 7.1, temperature)\n",
    "finder.findReferenceEnergies()\n",
    "hid_ref_energies = cph.titrations[1].referenceEnergies\n",
    "print(hid_ref_energies)"
   ]
  },
  {
   "cell_type": "markdown",
   "id": "0ecd442e-ddcd-4257-9f46-4ff770e77d69",
   "metadata": {},
   "source": [
    "And now for HIE:"
   ]
  },
  {
   "cell_type": "code",
   "execution_count": 8,
   "id": "5cc52d81-0dff-4c2f-a6a7-af2feea73d2e",
   "metadata": {},
   "outputs": [
    {
     "name": "stdout",
     "output_type": "stream",
     "text": [
      "[0.0 kJ/mol, -32.17455005951631 kJ/mol]\n"
     ]
    }
   ],
   "source": [
    "variants = {1: ['HIP', 'HIE']}\n",
    "referenceEnergies = {1: [0.0, 0.0]}\n",
    "cph = ConstantPH(pdb.topology, pdb.positions, 7.0, explicit_ff, implicit_ff, variants, referenceEnergies, 250,\n",
    "                explicit_params, implicit_params, integrator, relaxation_integrator)\n",
    "finder = ReferenceEnergyFinder(cph, 6.5, temperature)\n",
    "finder.findReferenceEnergies()\n",
    "hie_ref_energies = cph.titrations[1].referenceEnergies\n",
    "print(hie_ref_energies)"
   ]
  },
  {
   "cell_type": "markdown",
   "id": "9482c41f-a7a2-44a8-a549-1a28ad22139e",
   "metadata": {},
   "source": [
    "We are ready to simulate the protein.  First we load a file containing the starting structure.  The example shown here is the standard DHFR benchmark system.  You can use whatever protein you want."
   ]
  },
  {
   "cell_type": "code",
   "execution_count": 9,
   "id": "3f4de45b-f076-48ea-869c-6e88ef65d0b7",
   "metadata": {},
   "outputs": [],
   "source": [
    "pdb = PDBFile('dhfr.pdb')"
   ]
  },
  {
   "cell_type": "markdown",
   "id": "fb1d5305-be25-4a58-acfd-804acf94eb15",
   "metadata": {},
   "source": [
    "We need to determine which residues to titrate, and record the variants and reference energies for each one."
   ]
  },
  {
   "cell_type": "code",
   "execution_count": 10,
   "id": "08baa2fb-d1e0-4cde-9f2c-c99c6921d814",
   "metadata": {},
   "outputs": [],
   "source": [
    "variants = {}\n",
    "referenceEnergies = {}\n",
    "for residue in pdb.topology.residues():\n",
    "    if residue.name == 'CYS':\n",
    "        variants[residue.index] = ['CYS', 'CYX']\n",
    "        referenceEnergies[residue.index] = cys_ref_energies\n",
    "    if residue.name == 'HIS':\n",
    "        variants[residue.index] = ['HIP', 'HID', 'HIE']\n",
    "        referenceEnergies[residue.index] = [0.0*kilojoules_per_mole, hid_ref_energies[1], hie_ref_energies[1]]"
   ]
  },
  {
   "cell_type": "markdown",
   "id": "53b4e95b-c2ec-413c-b527-d081dbf42c08",
   "metadata": {},
   "source": [
    "Now we create the ConstantPH object for the real simulation.  We are interested in simulating the protein at pH 7.5, but results tend to converge faster if we use simulated tempering to let it explore a range of pH values, both lower and higher than the target.  For this example, we tell it to sample a range of pH values between 6.5 and 8.5.  The more titratable sites you have, the more closely spaced the values need to be.  If there are too few, the simulation may become stuck in a single pH and not be able to transition between them."
   ]
  },
  {
   "cell_type": "code",
   "execution_count": 11,
   "id": "807e3616-43ce-4b69-ab43-1041ccf72919",
   "metadata": {},
   "outputs": [],
   "source": [
    "cph = ConstantPH(pdb.topology, pdb.positions, [6.5, 7.0, 7.5, 8.0, 8.5], explicit_ff, implicit_ff, variants, referenceEnergies, 250,\n",
    "                explicit_params, implicit_params, integrator, relaxation_integrator)"
   ]
  },
  {
   "cell_type": "markdown",
   "id": "79230d1d-3926-440c-b383-a99e74aa58e7",
   "metadata": {},
   "source": [
    "Before running a simulation, it is always good to energy minimize the system."
   ]
  },
  {
   "cell_type": "code",
   "execution_count": 12,
   "id": "e1bebfa9-80a4-4239-ae5f-b26df3c8e69b",
   "metadata": {},
   "outputs": [],
   "source": [
    "cph.simulation.minimizeEnergy()"
   ]
  },
  {
   "cell_type": "markdown",
   "id": "de09b464-d4a4-4be4-a6d1-1cc7b40e013c",
   "metadata": {},
   "source": [
    "Next we need to equilibrate it.  This is important for two reasons.  In any simulation, you should always equilibrate to make sure your starting conformation is typical of thermal equilibrium.  In addition, the simulated tempering algorithm needs to determine weights of each of the pH values it explores.  It takes time for the weights to converge, and until they do, the simulation will not follow the correct distribution.\n",
    "\n",
    "Running the equilibration simulation is very simple.  We call `step()` in the usual way to integrate time steps, alternating with calls to `attemptMCStep()` to consider changes to the pH and protonation states."
   ]
  },
  {
   "cell_type": "code",
   "execution_count": 13,
   "id": "fbdd4e6a-8105-4c7a-b2f1-27306f07ffbb",
   "metadata": {},
   "outputs": [],
   "source": [
    "for i in range(2000):\n",
    "    cph.simulation.step(50)\n",
    "    cph.attemptMCStep(temperature)"
   ]
  },
  {
   "cell_type": "markdown",
   "id": "372783c5-b662-4ebe-8183-fef5ae09faa6",
   "metadata": {},
   "source": [
    "Running the production simulation is the same, but it is essential to record the current pH any time we save any kind of output.  If we want to study the protein's behavior at pH 7.5, we should ignore any states that correspond to a different pH.\n",
    "\n",
    "Depending on the application, we may also want to record the states of the titratable residues.  In this case we will simply print out all of these values.  That is enough to show how to retrieve them.  In your own simulations, you can use them however you want."
   ]
  },
  {
   "cell_type": "code",
   "execution_count": 14,
   "id": "62439faf-77ee-4d36-a16a-52601ae65d4b",
   "metadata": {},
   "outputs": [
    {
     "name": "stdout",
     "output_type": "stream",
     "text": [
      "7.0 ['HIP', 'CYS', 'HIP', 'HIP', 'HID', 'HIP', 'CYS']\n",
      "7.5 ['HIP', 'CYS', 'HIP', 'HIP', 'HID', 'HIP', 'CYS']\n",
      "8.0 ['HIP', 'CYS', 'HIP', 'HIP', 'HID', 'HID', 'CYS']\n",
      "8.5 ['HIP', 'CYS', 'HIP', 'HIP', 'HID', 'HID', 'CYS']\n",
      "8.5 ['HIP', 'CYS', 'HIP', 'HIP', 'HID', 'HID', 'CYS']\n",
      "8.5 ['HIP', 'CYS', 'HIP', 'HIP', 'HID', 'HID', 'CYS']\n",
      "7.5 ['HIP', 'CYS', 'HIP', 'HIP', 'HID', 'HIP', 'CYS']\n",
      "7.0 ['HIP', 'CYS', 'HIP', 'HIP', 'HID', 'HIP', 'CYS']\n",
      "8.0 ['HIP', 'CYS', 'HIP', 'HIP', 'HID', 'HIP', 'CYS']\n",
      "7.0 ['HIP', 'CYS', 'HIP', 'HIP', 'HID', 'HIP', 'CYS']\n",
      "6.5 ['HIP', 'CYS', 'HIP', 'HIP', 'HID', 'HIP', 'CYS']\n",
      "8.0 ['HIP', 'CYS', 'HIP', 'HIP', 'HID', 'HIP', 'CYS']\n",
      "7.0 ['HIP', 'CYS', 'HIP', 'HIP', 'HID', 'HIP', 'CYS']\n",
      "8.5 ['HIP', 'CYS', 'HIP', 'HIP', 'HID', 'HID', 'CYS']\n",
      "8.0 ['HIP', 'CYS', 'HIP', 'HID', 'HID', 'HIP', 'CYS']\n",
      "8.0 ['HIP', 'CYS', 'HIP', 'HID', 'HID', 'HIP', 'CYS']\n",
      "7.5 ['HIP', 'CYS', 'HIP', 'HIP', 'HID', 'HIP', 'CYS']\n",
      "7.5 ['HIP', 'CYS', 'HIP', 'HIP', 'HID', 'HIP', 'CYS']\n",
      "7.0 ['HIP', 'CYS', 'HIP', 'HIP', 'HID', 'HIP', 'CYS']\n",
      "8.0 ['HIP', 'CYS', 'HIP', 'HIP', 'HID', 'HIP', 'CYS']\n"
     ]
    }
   ],
   "source": [
    "for i in range(20):\n",
    "    cph.simulation.step(50)\n",
    "    cph.attemptMCStep(temperature)\n",
    "    print(cph.pH[cph.currentPHIndex], [variants[index][cph.titrations[index].currentIndex] for index in variants])"
   ]
  },
  {
   "cell_type": "markdown",
   "id": "a81be572-7b11-4fe4-b9b8-3a63969a65f4",
   "metadata": {},
   "source": [
    "The local environment can cause the pKa of a residue to be considerably different from that of the isolated model compound.  We see that different residues spend most of their time in different states, with occasional fluctuations."
   ]
  }
 ],
 "metadata": {
  "kernelspec": {
   "display_name": "Python 3 (ipykernel)",
   "language": "python",
   "name": "python3"
  },
  "language_info": {
   "codemirror_mode": {
    "name": "ipython",
    "version": 3
   },
   "file_extension": ".py",
   "mimetype": "text/x-python",
   "name": "python",
   "nbconvert_exporter": "python",
   "pygments_lexer": "ipython3",
   "version": "3.12.7"
  }
 },
 "nbformat": 4,
 "nbformat_minor": 5
}
